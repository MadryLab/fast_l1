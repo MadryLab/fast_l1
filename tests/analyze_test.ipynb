{
 "cells": [
  {
   "cell_type": "code",
   "execution_count": 4,
   "metadata": {},
   "outputs": [
    {
     "name": "stderr",
     "output_type": "stream",
     "text": [
      "100%|██████████| 1/1 [00:00<00:00, 76.27it/s]\n"
     ]
    }
   ],
   "source": [
    "from cox.readers import CollectionReader\n",
    "\n",
    "r = CollectionReader('/mnt/nfs/home/ailyas/slurm/scratch/datamodel_logs/')\n",
    "df = r.df('losses')"
   ]
  },
  {
   "cell_type": "code",
   "execution_count": 5,
   "metadata": {},
   "outputs": [],
   "source": [
    "%matplotlib inline\n",
    "from matplotlib import pyplot as plt"
   ]
  },
  {
   "cell_type": "code",
   "execution_count": 7,
   "metadata": {},
   "outputs": [
    {
     "data": {
      "text/plain": [
       "[<matplotlib.lines.Line2D at 0x7f8eec6e37f0>]"
      ]
     },
     "execution_count": 7,
     "metadata": {},
     "output_type": "execute_result"
    },
    {
     "data": {
      "image/png": "[encoded data removed]",
      "text/plain": [
       "<Figure size 432x288 with 1 Axes>"
      ]
     },
     "metadata": {
      "needs_background": "light"
     },
     "output_type": "display_data"
    }
   ],
   "source": [
    "plt.plot(df[df['index'] == 2]['train_mse'])\n",
    "plt.plot(df[df['index'] == 2]['val_mse'])\n",
    "# for i in range(10):\n",
    "    # plt.plot(df[df['index'] == i]['lambda'].loc[1500:])"
   ]
  },
  {
   "cell_type": "code",
   "execution_count": 25,
   "metadata": {},
   "outputs": [
    {
     "data": {
      "text/plain": [
       "0       1.000000\n",
       "10      1.000000\n",
       "20      1.000000\n",
       "30      1.000000\n",
       "40      1.000000\n",
       "          ...   \n",
       "3930    0.001953\n",
       "3940    0.001953\n",
       "3950    0.001953\n",
       "3960    0.001953\n",
       "3970    0.001953\n",
       "Name: lambda, Length: 398, dtype: float64"
      ]
     },
     "execution_count": 25,
     "metadata": {},
     "output_type": "execute_result"
    }
   ],
   "source": [
    "df[df['index'] == 0]['lambda']"
   ]
  },
  {
   "cell_type": "code",
   "execution_count": 26,
   "metadata": {},
   "outputs": [
    {
     "data": {
      "text/plain": [
       "0            inf\n",
       "10           inf\n",
       "20           inf\n",
       "30           inf\n",
       "40           inf\n",
       "          ...   \n",
       "3930    0.003315\n",
       "3940    0.003170\n",
       "3950    0.003170\n",
       "3960    0.003043\n",
       "3970    0.003043\n",
       "Name: val_mse, Length: 398, dtype: float64"
      ]
     },
     "execution_count": 26,
     "metadata": {},
     "output_type": "execute_result"
    }
   ],
   "source": [
    "df[df['index'] == 0]['val_mse']"
   ]
  },
  {
   "cell_type": "code",
   "execution_count": 16,
   "metadata": {},
   "outputs": [
    {
     "data": {
      "text/plain": [
       "1       1.000000e+00\n",
       "11      1.000000e+00\n",
       "21      1.000000e+00\n",
       "31      1.000000e+00\n",
       "41      1.000000e+00\n",
       "            ...     \n",
       "2731    1.000001e-21\n",
       "2741    1.000001e-22\n",
       "2751    1.000001e-22\n",
       "2761    1.000001e-23\n",
       "2771    1.000001e-23\n",
       "Name: lambda, Length: 278, dtype: float64"
      ]
     },
     "execution_count": 16,
     "metadata": {},
     "output_type": "execute_result"
    }
   ],
   "source": [
    "df[df['index'] == 1]['lambda']"
   ]
  },
  {
   "cell_type": "code",
   "execution_count": null,
   "metadata": {},
   "outputs": [],
   "source": []
  }
 ],
 "metadata": {
  "interpreter": {
   "hash": "701c6e29372a4fc552c2d9aa55ff79614335fc6950d06b73f809a2a6b7af8829"
  },
  "kernelspec": {
   "display_name": "Python 3.9.10 ('ffcv-latest')",
   "language": "python",
   "name": "python3"
  },
  "language_info": {
   "codemirror_mode": {
    "name": "ipython",
    "version": 3
   },
   "file_extension": ".py",
   "mimetype": "text/x-python",
   "name": "python",
   "nbconvert_exporter": "python",
   "pygments_lexer": "ipython3",
   "version": "3.9.10"
  },
  "orig_nbformat": 4
 },
 "nbformat": 4,
 "nbformat_minor": 2
}
